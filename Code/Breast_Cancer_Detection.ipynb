{
  "nbformat": 4,
  "nbformat_minor": 0,
  "metadata": {
    "colab": {
      "name": "Breast Cancer Detection.ipynb",
      "provenance": [],
      "collapsed_sections": []
    },
    "kernelspec": {
      "name": "python3",
      "display_name": "Python 3"
    },
    "accelerator": "TPU"
  },
  "cells": [
    {
      "cell_type": "markdown",
      "metadata": {
        "id": "Q8X8xDwS6vgS",
        "colab_type": "text"
      },
      "source": [
        "# Logistic Regression"
      ]
    },
    {
      "cell_type": "markdown",
      "metadata": {
        "id": "PEGG4I6n60cM",
        "colab_type": "text"
      },
      "source": [
        "## Importing the libraries"
      ]
    },
    {
      "cell_type": "code",
      "metadata": {
        "id": "D4b029YC7C-y",
        "colab_type": "code",
        "colab": {}
      },
      "source": [
        "import pandas as pd\n",
        "import numpy as np"
      ],
      "execution_count": 0,
      "outputs": []
    },
    {
      "cell_type": "markdown",
      "metadata": {
        "id": "Aa536pRY7Eq5",
        "colab_type": "text"
      },
      "source": [
        "## Importing the dataset"
      ]
    },
    {
      "cell_type": "code",
      "metadata": {
        "id": "4POXlqg47Ny3",
        "colab_type": "code",
        "colab": {}
      },
      "source": [
        "dataset = pd.read_csv(\"breast_cancer.csv\")"
      ],
      "execution_count": 0,
      "outputs": []
    },
    {
      "cell_type": "markdown",
      "metadata": {
        "id": "aTGgX21KBOpn",
        "colab_type": "text"
      },
      "source": [
        "###Missing Data Handling"
      ]
    },
    {
      "cell_type": "code",
      "metadata": {
        "id": "ADxvB4pqBO9F",
        "colab_type": "code",
        "outputId": "cb83e391-8c05-4ad9-f965-941df36cabb4",
        "colab": {
          "base_uri": "https://localhost:8080/",
          "height": 51
        }
      },
      "source": [
        "dataset.replace({\"?\":np.nan},inplace=True)\n",
        "nulls = dataset.isnull().sum().sum()\n",
        "print(\"Percentage of null values containing rows: \",(nulls/len(dataset))*100)\n",
        "#we drop these rows as they are very few in number\n",
        "dataset.dropna(axis=0, inplace= True)\n",
        "nulls = dataset.isnull().sum().sum()\n",
        "print(\"Nulls after handling missing data: \",nulls)\n",
        "X = dataset.iloc[:,1:-1]\n",
        "y = dataset.iloc[:,-1]"
      ],
      "execution_count": 64,
      "outputs": [
        {
          "output_type": "stream",
          "text": [
            "Percentage of null values containing rows:  2.28898426323319\n",
            "Nulls after handling missing data:  0\n"
          ],
          "name": "stdout"
        }
      ]
    },
    {
      "cell_type": "markdown",
      "metadata": {
        "id": "0AnzJQCj7TLO",
        "colab_type": "text"
      },
      "source": [
        "## Splitting the dataset into the Training set and Test set"
      ]
    },
    {
      "cell_type": "code",
      "metadata": {
        "id": "WOQwyng57dp2",
        "colab_type": "code",
        "colab": {}
      },
      "source": [
        "from sklearn.model_selection import train_test_split\n",
        "X_train, X_test, y_train, y_test = train_test_split(X, y, test_size = 0.2, random_state = 0)"
      ],
      "execution_count": 0,
      "outputs": []
    },
    {
      "cell_type": "markdown",
      "metadata": {
        "id": "pS1Q-n_A7iZ_",
        "colab_type": "text"
      },
      "source": [
        "## Training the Logistic Regression model on the Training set"
      ]
    },
    {
      "cell_type": "code",
      "metadata": {
        "id": "9V-LgiUa78lX",
        "colab_type": "code",
        "outputId": "c1cac7b3-1f31-4d61-8943-19bf2ca77b5c",
        "colab": {
          "base_uri": "https://localhost:8080/",
          "height": 102
        }
      },
      "source": [
        "from sklearn.linear_model import LogisticRegression\n",
        "classifier = LogisticRegression()\n",
        "classifier.fit(X_train, y_train)"
      ],
      "execution_count": 66,
      "outputs": [
        {
          "output_type": "execute_result",
          "data": {
            "text/plain": [
              "LogisticRegression(C=1.0, class_weight=None, dual=False, fit_intercept=True,\n",
              "                   intercept_scaling=1, l1_ratio=None, max_iter=100,\n",
              "                   multi_class='auto', n_jobs=None, penalty='l2',\n",
              "                   random_state=None, solver='lbfgs', tol=0.0001, verbose=0,\n",
              "                   warm_start=False)"
            ]
          },
          "metadata": {
            "tags": []
          },
          "execution_count": 66
        }
      ]
    },
    {
      "cell_type": "markdown",
      "metadata": {
        "id": "4cgD7EnB8Dnd",
        "colab_type": "text"
      },
      "source": [
        "## Predicting the Test set results"
      ]
    },
    {
      "cell_type": "code",
      "metadata": {
        "id": "1B4zQvOq8M7H",
        "colab_type": "code",
        "outputId": "9f6ee8c7-0407-4e57-c591-f8232144761e",
        "colab": {
          "base_uri": "https://localhost:8080/",
          "height": 476
        }
      },
      "source": [
        "y_pred = classifier.predict(X_test)\n",
        "print(y_pred[:25])\n",
        "print(y_test[:25])"
      ],
      "execution_count": 67,
      "outputs": [
        {
          "output_type": "stream",
          "text": [
            "[2 2 4 4 2 2 2 4 2 2 4 2 4 2 2 2 4 4 4 2 2 2 4 2 4]\n",
            "115    2\n",
            "392    2\n",
            "316    4\n",
            "519    4\n",
            "313    2\n",
            "505    2\n",
            "77     2\n",
            "506    4\n",
            "485    2\n",
            "573    2\n",
            "14     4\n",
            "161    2\n",
            "187    4\n",
            "533    2\n",
            "584    2\n",
            "148    2\n",
            "237    4\n",
            "253    4\n",
            "344    4\n",
            "70     2\n",
            "199    2\n",
            "81     2\n",
            "146    4\n",
            "554    2\n",
            "329    4\n",
            "Name: Class, dtype: int64\n"
          ],
          "name": "stdout"
        }
      ]
    },
    {
      "cell_type": "markdown",
      "metadata": {
        "id": "26CHkZbs8Tu5",
        "colab_type": "text"
      },
      "source": [
        "## Making the Confusion Matrix"
      ]
    },
    {
      "cell_type": "code",
      "metadata": {
        "id": "5BN8qx6e8aNZ",
        "colab_type": "code",
        "outputId": "ff1259cc-a1c7-4e1b-b28a-91383e19f8df",
        "colab": {
          "base_uri": "https://localhost:8080/",
          "height": 85
        }
      },
      "source": [
        "from sklearn.metrics import confusion_matrix, accuracy_score\n",
        "cm = confusion_matrix(y_pred, y_test)\n",
        "score = accuracy_score(y_pred, y_test)\n",
        "print('Confusion Matix:','\\n',cm,'\\n','Accuracy score: ',score)"
      ],
      "execution_count": 68,
      "outputs": [
        {
          "output_type": "stream",
          "text": [
            "Confusion Matix: \n",
            " [[84  3]\n",
            " [ 3 47]] \n",
            " Accuracy score:  0.9562043795620438\n"
          ],
          "name": "stdout"
        }
      ]
    },
    {
      "cell_type": "markdown",
      "metadata": {
        "id": "kMErnLnu8hmb",
        "colab_type": "text"
      },
      "source": [
        "## Computing the accuracy with k-Fold Cross Validation"
      ]
    },
    {
      "cell_type": "code",
      "metadata": {
        "id": "waJZi8fw8m_2",
        "colab_type": "code",
        "outputId": "a2c14d07-3a88-4b68-b32d-9e24222ed329",
        "colab": {
          "base_uri": "https://localhost:8080/",
          "height": 187
        }
      },
      "source": [
        "from sklearn.model_selection import cross_val_score\n",
        "accuracies = cross_val_score(estimator = classifier, X = X_train, y = y_train, cv = 10)\n",
        "for i in range(0,len(accuracies)):\n",
        "  print(\"Accuracy score for fold {} : {:.2f} %\".format(i+1,accuracies[i]*100))"
      ],
      "execution_count": 69,
      "outputs": [
        {
          "output_type": "stream",
          "text": [
            "Accuracy score for fold 1 : 94.55 %\n",
            "Accuracy score for fold 2 : 96.36 %\n",
            "Accuracy score for fold 3 : 96.36 %\n",
            "Accuracy score for fold 4 : 100.00 %\n",
            "Accuracy score for fold 5 : 94.55 %\n",
            "Accuracy score for fold 6 : 100.00 %\n",
            "Accuracy score for fold 7 : 96.30 %\n",
            "Accuracy score for fold 8 : 96.30 %\n",
            "Accuracy score for fold 9 : 98.15 %\n",
            "Accuracy score for fold 10 : 94.44 %\n"
          ],
          "name": "stdout"
        }
      ]
    },
    {
      "cell_type": "markdown",
      "metadata": {
        "id": "S0twk5VxJWwL",
        "colab_type": "text"
      },
      "source": [
        "##Final Results"
      ]
    },
    {
      "cell_type": "code",
      "metadata": {
        "id": "KSvKIq89JXHL",
        "colab_type": "code",
        "outputId": "217bf144-95e2-487b-914c-de2e149b1fc9",
        "colab": {
          "base_uri": "https://localhost:8080/",
          "height": 51
        }
      },
      "source": [
        "print(\"Accuracy score: {:.2f} %\".format(accuracies.mean()*100))\n",
        "print(\"Standard Deviation between accuracies: {:.2f} %\".format(accuracies.std()*100))"
      ],
      "execution_count": 70,
      "outputs": [
        {
          "output_type": "stream",
          "text": [
            "Accuracy score: 96.70 %\n",
            "Standard Deviation between accuracies: 1.97 %\n"
          ],
          "name": "stdout"
        }
      ]
    }
  ]
}